{
 "cells": [
  {
   "cell_type": "markdown",
   "metadata": {},
   "source": [
    "# Homework 1!\n",
    "\n",
    "#### Input the following variables from the user as follows: <br>\n",
    "* Name of the student as `name`\n",
    "* Class of the student as `class`\n",
    "* Marks in Mathematics as `math_mark`\n",
    "* Marks in Physics as `phy_mark`\n",
    "* Marks in Chemistry as `chem_mark`\n",
    "* Marks in Biology as `bio_mark`\n",
    "* Marks in Computer Science as `compsci_mark`\n",
    "* Marks in English as `eng_mark`\n",
    "* Marks in Bengali as `ben_mark`\n",
    "* Marks in Geography as `geo_mark`\n",
    "* Marks in History as `his_mark`\n",
    "<br>"
   ]
  },
  {
   "cell_type": "code",
   "execution_count": 2,
   "metadata": {},
   "outputs": [],
   "source": [
    "# Input all variables here.\n"
   ]
  },
  {
   "cell_type": "markdown",
   "metadata": {},
   "source": [
    "## Perform the following actions: \n",
    "* Assign `None` value to a variable called `grade` as it will calculated later in the program.\n",
    "* Find the average marks in Science and Arts.\n",
    "* Find the overall percentage.\n",
    "* Assign a grade to the student based on the following:\n",
    "    >**A** if overall percentage is greater than and equal to 80. <br>\n",
    "    >**B** if overall percentage is between 70 and 80. <br>\n",
    "    >**C** if overall percentage is between 60 and 70. <br>\n",
    "    >**D** if overall percentage is between 50 and 60. <br>\n",
    "    >**E** if overall percentage is between 40 and 50. <br>\n",
    "    >**F** if overall percentage is less than, but not equal to 40.\n",
    "5. Print a report card with Name, class, marks in all subjects, average marks in science, average marks in arts, assigned grade and your comments for the hypothetical student (if any)."
   ]
  },
  {
   "cell_type": "code",
   "execution_count": 3,
   "metadata": {},
   "outputs": [],
   "source": [
    "# Perform the following actions here.\n",
    "\n"
   ]
  }
 ],
 "metadata": {
  "kernelspec": {
   "display_name": "Python 3",
   "language": "python",
   "name": "python3"
  },
  "language_info": {
   "codemirror_mode": {
    "name": "ipython",
    "version": 3
   },
   "file_extension": ".py",
   "mimetype": "text/x-python",
   "name": "python",
   "nbconvert_exporter": "python",
   "pygments_lexer": "ipython3",
   "version": "3.7.6"
  }
 },
 "nbformat": 4,
 "nbformat_minor": 4
}
