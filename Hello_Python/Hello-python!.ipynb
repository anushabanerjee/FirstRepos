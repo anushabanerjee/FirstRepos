{
 "cells": [
  {
   "cell_type": "markdown",
   "metadata": {},
   "source": [
    "# Introduction to Python\n",
    "\n",
    "Hello! This session is meant to be a very basic and preliminary introduction to programming. A lot of it might seem stupid and useless, but I am sure they are used somewhere or the other. Do not, by any means, treat this introduction as an all-inclusive one. I have only included the basic logics, and shown a few interesting things. Most details for the latter are left out! Treat this as a bus ticket! The destination (and further exploration) is up to you! <br> <br>\n",
    "Before we start, run codes using **Shift + Enter**."
   ]
  },
  {
   "cell_type": "markdown",
   "metadata": {},
   "source": [
    "## Variables\n",
    "\n",
    "As we saw in `Trial.ipynb` we can use certain **values** in Python, and manipulate them mathematically, similar to a calculator. `2 + 2` will give an output of 4, and so on. There are certain mathematical operaters which we can use. These are:"
   ]
  },
  {
   "cell_type": "markdown",
   "metadata": {},
   "source": [
    "| Operator     | Name           | Description                                            |\n",
    "|--------------|----------------|--------------------------------------------------------|\n",
    "| ``a + b``    | Addition       | Sum of ``a`` and ``b``                                 |\n",
    "| ``a - b``    | Subtraction    | Difference of ``a`` and ``b``                          |\n",
    "| ``a * b``    | Multiplication | Product of ``a`` and ``b``                             |\n",
    "| ``a / b``    | True division  | Quotient of ``a`` and ``b``                            |\n",
    "| ``a // b``   | Floor division | Quotient of ``a`` and ``b``, removing fractional parts |\n",
    "| ``a % b``    | Modulus        | Integer remainder after division of ``a`` by ``b``     |\n",
    "| ``a ** b``   | Exponentiation | ``a`` raised to the power of ``b``                     |\n",
    "| ``-a``       | Negation       | The negative of ``a``                                  |"
   ]
  },
  {
   "cell_type": "markdown",
   "metadata": {},
   "source": [
    "#### **Variables** are when we assign names for those values. Let's assign a few variables, and see how we can use the respective mathematical operators on them."
   ]
  },
  {
   "cell_type": "code",
   "execution_count": null,
   "metadata": {
    "scrolled": true
   },
   "outputs": [],
   "source": [
    "# By the way, before we proceed, this is how a single-line comment looks like in python\n",
    "\n",
    "'''\n",
    "They can look like these too. This is a multi-line comment.\n",
    "It is recommended to use comments to enable others \n",
    "(and the you of the future) to be able to read and understand your code.\n",
    "We will be using comments throughout this introductory lesson.\n",
    "\n",
    "'''\n",
    "\n",
    "# Let's try out the operators one by one\n",
    "# Change the values of the variables and try out operators one at a time\n",
    "# Don't delete the variables\n",
    "\n",
    "a = None\n",
    "b = None\n"
   ]
  },
  {
   "cell_type": "markdown",
   "metadata": {},
   "source": [
    "<div class=\"alert alert-info\">\n",
    "\n",
    "**Note**\n",
    "\n",
    "`None` is used to assign a null value to a variable, regardless of its (future) type. <br>\n",
    "    A variable may be of various different types. For the time being we will concentrate on three: <br>\n",
    "    <hr>\n",
    "    <br>\n",
    "    **int**: Stands for, and stores integers (both positive and negative) <br>\n",
    "    **float**: Stands for floating point real numbers. Stores decimal values <br>\n",
    "    **str**: Stands for String. Stores a set of characters like words or sentences. Strings are always placed in between single or double inverted commas. For example: 'String of words' or \"String of words\". I usually use \"\" because we used to do it in JAVA in that way. :3 <br> <br> <hr>\n",
    "    The type of a variable can be found using the function `type(variable_name)`\n",
    "</div>"
   ]
  },
  {
   "cell_type": "code",
   "execution_count": null,
   "metadata": {
    "scrolled": true
   },
   "outputs": [],
   "source": [
    "# Here are some variables and their assigned data values\n",
    "# Don't change anything here\n",
    "x = 10\n",
    "pi = 3.1415926\n",
    "y1 = 'This is a string'\n",
    "y2 = \"This is also a string\""
   ]
  },
  {
   "cell_type": "code",
   "execution_count": null,
   "metadata": {},
   "outputs": [],
   "source": [
    "# Find the type of the variables given above\n"
   ]
  },
  {
   "cell_type": "markdown",
   "metadata": {},
   "source": [
    "### Print() Function\n",
    "Easy, right? <br>\n",
    "But, wait. We haven't obtained any output yet. For that, we use the `print()` function. We can print anything we like, by putting our desired output parameter in the paranthesis. It is important to note that the paranthesis are important to print anything. **This is an important characterstic of Python Functions.** We will come to Functions later in our journey. <br>"
   ]
  },
  {
   "cell_type": "code",
   "execution_count": null,
   "metadata": {},
   "outputs": [],
   "source": [
    "# Define and print any variable of your liking\n",
    "print()"
   ]
  },
  {
   "cell_type": "code",
   "execution_count": null,
   "metadata": {},
   "outputs": [],
   "source": [
    "# Several variables, values, or strings can be printed by using a comma\n",
    "# Write your name in the space below and print\n",
    "name = None\n",
    "print(\"my\",\"name\",\"is\",name)"
   ]
  },
  {
   "cell_type": "code",
   "execution_count": null,
   "metadata": {},
   "outputs": [],
   "source": [
    "# You can also specify separators in the Print function. By default the separator is ' ' (a space).\n",
    "# This can be changed. Try the code below.\n",
    "print(1, 2, 3, sep = '<')"
   ]
  },
  {
   "cell_type": "markdown",
   "metadata": {},
   "source": [
    "<div class=\"alert alert-warning\">\n",
    "    <strong>Strings, '+' and '*'</strong> \n",
    "\n",
    "`+` and `*` work differently for numbers and strings. Let's check it out! <br>\n",
    "\n",
    "</div>\n"
   ]
  },
  {
   "cell_type": "code",
   "execution_count": null,
   "metadata": {},
   "outputs": [],
   "source": [
    "a = 4\n",
    "b = 'hello'\n",
    "\n",
    "# De-comment each print statement one by one and try it out!\n",
    "# print(a + a)\n",
    "# print(b + b) #This is also called string concatenation\n",
    "# print(a * a)\n",
    "# print(b * a)"
   ]
  },
  {
   "cell_type": "code",
   "execution_count": null,
   "metadata": {},
   "outputs": [],
   "source": [
    "# Now try concatenating an integer and a string\n"
   ]
  },
  {
   "cell_type": "markdown",
   "metadata": {},
   "source": [
    "What we've just encountered is a `TypeError`. Python cannot concatenate int and str values together. But, there's a way to deal with this easily. You can change an integer into a string by using: <br>\n",
    "<br>\n",
    "`str(int_variable)` <br> \n",
    "<br> \n",
    "If a given string contains integer, or float value, the reverse is also possible."
   ]
  },
  {
   "cell_type": "code",
   "execution_count": null,
   "metadata": {},
   "outputs": [],
   "source": [
    "# Try it\n",
    "a = 22\n",
    "b = '45'\n",
    "\n",
    "# Check the type of each, then interchange their types and store them in variables c and d"
   ]
  },
  {
   "cell_type": "markdown",
   "metadata": {},
   "source": [
    "### How to take inputs from the user and print them.\n",
    "\n",
    "Now! We use the `input()` function to take inputs from the user. Very convenient. The inputted value is usually stored in a variable. Let's try:"
   ]
  },
  {
   "cell_type": "code",
   "execution_count": null,
   "metadata": {},
   "outputs": [],
   "source": [
    "# Inputting a variable from the user and printing it.\n",
    "p = input(\"Enter a number:\")\n",
    "print(p)"
   ]
  },
  {
   "cell_type": "markdown",
   "metadata": {},
   "source": [
    "## Now we can start programming!\n",
    "\n",
    "Now that we have a basic idea about variables, converting one type from the other, let's proceed to our first program. Write a program to print *Hello World!* :3 <br>\n",
    "No, really. The entry to the world of programming is nearly useless (an exaggeration) unless you write this! <br>\n",
    "*(Just, in case. The above statement is sarcastic)*"
   ]
  },
  {
   "cell_type": "code",
   "execution_count": null,
   "metadata": {},
   "outputs": [],
   "source": [
    "# Let's print Hello World below with a twist\n",
    "hello = 'Hello'\n",
    "world = 'world'\n",
    "\n",
    "# Write the print statement below using the string variables and print the message Hello world 5 times\n",
    "# Only one print statement is allowed!"
   ]
  },
  {
   "cell_type": "markdown",
   "metadata": {},
   "source": [
    "## Congratulations! \n",
    "\n",
    "![Meme of a Programmer](Programmer.jpg)\n",
    "\n",
    "### You have been upgraded to a programmer.\n",
    "\n",
    "Now, let's write a program to input the birthyear from the user, and print their age."
   ]
  },
  {
   "cell_type": "code",
   "execution_count": null,
   "metadata": {},
   "outputs": [],
   "source": [
    "# Input the year of birth from the user\n",
    "# Remember to use a relavant variable name for the same\n",
    "\n",
    "\n",
    "# Write the arithmetic equation for age calculation\n",
    "\n",
    "\n",
    "# Print their age\n",
    "\n"
   ]
  },
  {
   "cell_type": "markdown",
   "metadata": {},
   "source": [
    "### Good! \n",
    "Now, let's find the area and circumference of a circle. Round off the area and circumference to 2 decimal places. Assume unit as centimeter (cm)."
   ]
  },
  {
   "cell_type": "markdown",
   "metadata": {},
   "source": [
    "<div class=\"alert alert-info\">\n",
    "\n",
    "**Round()**\n",
    "\n",
    "To round off a float variable, the function `round(number, digits)` is used where `number` refers to the variable, or float number to be rounded off, and `digits` refers to how many digits it needs to be rounded off to. This is optional. By default, it is set to 0.\n",
    "</div>"
   ]
  },
  {
   "cell_type": "code",
   "execution_count": null,
   "metadata": {},
   "outputs": [],
   "source": [
    "# Input the radius from the user as 'radius'\n",
    "\n",
    "pi = 3.14159\n",
    "\n",
    "# Write the arithmetic equation for area and circumference and store them in 'area' and 'circumference' respectively\n",
    "\n",
    "# Print the radius, area and circumference\n"
   ]
  },
  {
   "cell_type": "markdown",
   "metadata": {},
   "source": [
    "### Perfect! \n",
    "\n",
    "Now, let's write a program to input a temperture in degree Fahrenheit (°F) and convert it to degree Celsius (°C), and Kelvin (K).<br><br>\n",
    "$$\n",
    "\\begin{equation}\n",
    "  T_{\\textrm{C}}~/~ 5 = (T_{\\textrm{F}} - 32)~/~9\n",
    "  \\end{equation}\n",
    "$$\n",
    "<br>\n",
    "$$\n",
    "\\begin{equation}\n",
    "T_{\\textrm{K}} = T_{\\textrm{C}} + 273\n",
    " \\end{equation}\n",
    "$$"
   ]
  },
  {
   "cell_type": "code",
   "execution_count": null,
   "metadata": {},
   "outputs": [],
   "source": [
    "# Input a temperature in degree Fahrenheit (°F) and convert it into degree Celsius (°C) and print.\n",
    "# Bonus: Insert the unit. Python supports unicode!\n",
    "\n",
    "# Convert this into Kelvin and print. \n"
   ]
  },
  {
   "cell_type": "markdown",
   "metadata": {},
   "source": [
    "## Conditional statements! \n",
    "\n",
    "Now, to spice up our programming game, let's talk about conditional statements. Like, if it's windy today I will open the windows. Otherwise, I will turn the fan on. These kind of conditional statements are very useful in python. They are used for decision making, and writing really effective code. The syntax is as follows: <br>\n",
    "~~~\n",
    "if condition_is_true:\n",
    "    action_1\n",
    "~~~\n",
    "Multiple decision making can also be done with `elif condition_is_true:` and `else:`. But both of these require a preceding `if condition:` statement."
   ]
  },
  {
   "cell_type": "markdown",
   "metadata": {},
   "source": [
    "<div class=\"alert alert-info\">\n",
    "    \n",
    "### Boolean Operators\n",
    "    \n",
    "Boolean or `bool` is a type of variable in Python which returns `True` or `False`. But, they are usually not used as widely as Boolean operators are. These operators also return values which are either `True` or `False`. Or, simply yes, or no.\n",
    "\n",
    "| Operation     |           Descrition         |\n",
    "|---------------|------------------------------|\n",
    "| ``a == b``    | a equal to b                 |\n",
    "| ``a < b``     | a less than b                |\n",
    "| ``a <= b``    | a less than or equal to b    |\n",
    "| ``a != b``    | a not equal to b             |\n",
    "| ``a > b``     | a greater than b             |\n",
    "| ``a >= b``    | a greater than or equal to b |\n",
    "    \n",
    "Let's take the code below for example: \n",
    "    \n",
    "    a = 10\n",
    "    if (a % 5 == 0):\n",
    "        print (\"a is divisible by 5\")\n",
    "    \n",
    "What will the output will be?\n",
    "    \n",
    "</div>"
   ]
  },
  {
   "cell_type": "code",
   "execution_count": null,
   "metadata": {},
   "outputs": [],
   "source": [
    "# Let's modify the previous codes\n",
    "\n",
    "'''\n",
    "Add a condition in the age code where the \n",
    "final output determines whether the person can \n",
    "legally apply for the post of President of India. \n",
    "\n",
    "The condition is that a person is elligible to apply\n",
    "if their age is between 35(including) and 60(excluding).\n",
    "'''"
   ]
  },
  {
   "cell_type": "code",
   "execution_count": null,
   "metadata": {},
   "outputs": [],
   "source": [
    "'''\n",
    "Add a condition in the temperature code where \n",
    "if the obtained temperature in Celsius is above 35°C, \n",
    "a heat warning is issued, and if the temperature \n",
    "is below 5°C, a cold warning is issued.\n",
    "'''"
   ]
  },
  {
   "cell_type": "markdown",
   "metadata": {},
   "source": [
    "## Bonus! Modules\n",
    "\n",
    "Modules are pre-written codes which contain certain functions. We'll learn about important modules later (as I learn). For now, there are two nice modules: `math` and `random`. So, like I said, modules are pre-written codes. Meaning, we have to bring them to our code from their directories. To do that we use the keyword `import`. Let's see how this works:"
   ]
  },
  {
   "cell_type": "code",
   "execution_count": null,
   "metadata": {},
   "outputs": [],
   "source": [
    "# Importing modules\n",
    "import math\n"
   ]
  },
  {
   "cell_type": "code",
   "execution_count": null,
   "metadata": {},
   "outputs": [],
   "source": [
    "# Let's make our own dice\n",
    "import random\n"
   ]
  },
  {
   "cell_type": "markdown",
   "metadata": {},
   "source": [
    "<center> This brings us to the end of our first day. Questions/Feedback? Mail me at rairaianusha@gmail.com </center>"
   ]
  }
 ],
 "metadata": {
  "kernelspec": {
   "display_name": "Python 3",
   "language": "python",
   "name": "python3"
  },
  "language_info": {
   "codemirror_mode": {
    "name": "ipython",
    "version": 3
   },
   "file_extension": ".py",
   "mimetype": "text/x-python",
   "name": "python",
   "nbconvert_exporter": "python",
   "pygments_lexer": "ipython3",
   "version": "3.7.6"
  }
 },
 "nbformat": 4,
 "nbformat_minor": 4
}
