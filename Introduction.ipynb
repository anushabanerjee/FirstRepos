{
 "cells": [
  {
   "cell_type": "markdown",
   "metadata": {},
   "source": [
    "# Introduction to Python\n",
    "\n",
    "Hello! This session is meant to be a very basic and preliminary introduction to programming. A lot of it might seem stupid and useless, but I am sure they are used somewhere or the other. Do not, by any means, treat this introduction as an all-inclusive one. I have only included the basic logics, and shown a few interesting things. Most details for the latter are left out! Treat this as a bus ticket! The destination (and further exploration) is for you to do! <br> <br>\n",
    "Before we start, run codes using **Shift + Enter**."
   ]
  },
  {
   "cell_type": "markdown",
   "metadata": {},
   "source": [
    "## Variables\n",
    "\n",
    "As we saw in `Trial.ipynb` we can use certain **values** in Python, and manipulate them mathematically. `2 + 2` will give an output of 4. There are certain mathematical operaters which we can use."
   ]
  },
  {
   "cell_type": "markdown",
   "metadata": {},
   "source": [
    "| Operator | Function                         |\n",
    "|----------|----------------------------------|\n",
    "| +        | Adds                             |\n",
    "| -        | Subtracts                        |\n",
    "| *        | Multiplies <br>(returns product) |\n",
    "| /        | Returns quotient<br>(divides)    |\n",
    "| %        | Returns remainder                |\n",
    "| **       | Exponent                         |"
   ]
  },
  {
   "cell_type": "markdown",
   "metadata": {},
   "source": [
    "**Variables** are when we assign names for those values. Let's assign a few variables, and see how we can use the respective mathematical operators on them."
   ]
  },
  {
   "cell_type": "code",
   "execution_count": 25,
   "metadata": {},
   "outputs": [],
   "source": [
    "# By the way, before we proceed, this is how a single-line comment looks like in python\n",
    "\n",
    "'''\n",
    "They can look like these too. This is a multi-line comment.\n",
    "It is recommended to use comments to enable others \n",
    "(and the you of the future) to be able to read and understand your code.\n",
    "We will be using comments throughout this introductory lesson.\n",
    "\n",
    "'''\n",
    "\n",
    "# Assign values to variables a and b below:\n",
    "a = None\n",
    "b = None\n",
    "\n",
    "# Assign another variable c which holds the mathematical relation between a and b:\n",
    "c = None"
   ]
  },
  {
   "cell_type": "markdown",
   "metadata": {},
   "source": [
    "<div class=\"alert alert-info\">\n",
    "\n",
    "**Note**\n",
    "\n",
    "`None` is used to assign a null value to a variable, regardless of its (future) type. <br>\n",
    "    A variable may be of various different types. For the time being we will concentrate on three: <br>\n",
    "    <br>\n",
    "    **int**: Stands for, and stores integers (both positive and negative) <br>\n",
    "    **float**: Stands for floating point real numbers. Stores decimal values <br>\n",
    "    **str**: Stands for String. Stores a set of characters like words or sentences. Strings are always placed in between single or double inverted commas. For example: 'String of words' or \"String of words\". I usually use \"\" because we used to do it in JAVA in that way. :3 <br> <br>\n",
    "    The type of a variable can be found using the function `type(variable_name)`\n",
    "</div>"
   ]
  },
  {
   "cell_type": "code",
   "execution_count": 26,
   "metadata": {},
   "outputs": [],
   "source": [
    "# Find the type of the following variables\n",
    "x = 10\n",
    "pi = 3.14\n",
    "y1 = 'This is a string'\n",
    "y2 = \"This is also a string\""
   ]
  },
  {
   "cell_type": "markdown",
   "metadata": {},
   "source": [
    "### Print() Function\n",
    "Easy, right? <br>\n",
    "But, wait. We haven't obtained any output yet. For that, we use the `print()` function. We can print anything we like, by putting our desired output parameter in the paranthesis. It is important to note that the paranthesis are important to print anything. Even if we are printing a **single variable with a single character**, without paranthesis, we will not get any results."
   ]
  },
  {
   "cell_type": "code",
   "execution_count": 11,
   "metadata": {},
   "outputs": [
    {
     "name": "stdout",
     "output_type": "stream",
     "text": [
      "\n"
     ]
    }
   ],
   "source": [
    "# Assign an int variable of your liking, and print it.\n",
    "print()"
   ]
  },
  {
   "cell_type": "code",
   "execution_count": 12,
   "metadata": {},
   "outputs": [
    {
     "name": "stdout",
     "output_type": "stream",
     "text": [
      "\n"
     ]
    }
   ],
   "source": [
    "# Print a string which says your name.\n",
    "print()"
   ]
  },
  {
   "cell_type": "code",
   "execution_count": 13,
   "metadata": {},
   "outputs": [
    {
     "name": "stdout",
     "output_type": "stream",
     "text": [
      "\n"
     ]
    }
   ],
   "source": [
    "# Print your variable and a String at the same time.\n",
    "print()"
   ]
  },
  {
   "cell_type": "markdown",
   "metadata": {},
   "source": [
    "What we've just encountered is a `TypeError`. Python cannot concatenate int and str values together. But, there's a way to deal with this easily. You can change an integer into a string by using: <br>\n",
    "<br>\n",
    "`str(int_variable)` <br> \n",
    "<br> This will help us to print us both int or float variables and strings at the same time."
   ]
  },
  {
   "cell_type": "markdown",
   "metadata": {},
   "source": [
    "### How to take inputs from the user and print them.\n",
    "\n",
    "Now! We use the `input()` function to take inputs from the user. Very convinient. The inputted value is usually stored in a variable. Let's try:"
   ]
  },
  {
   "cell_type": "code",
   "execution_count": null,
   "metadata": {},
   "outputs": [],
   "source": [
    "# Inputting a variable from the user and printing it.\n",
    "p = input(\"Enter a number:\")\n",
    "print(p)"
   ]
  },
  {
   "cell_type": "markdown",
   "metadata": {},
   "source": [
    "## Now we can start programming!\n",
    "\n",
    "Now that we have a basic idea about variables, converting one type from the other, let's proceed to our first program. Write a program to print *Hello World!* :3 <br>\n",
    "No, really. The entry to the world of programming is nearly useless (an exaggeration) unless you write this!"
   ]
  },
  {
   "cell_type": "code",
   "execution_count": 33,
   "metadata": {},
   "outputs": [],
   "source": [
    "# Print Hello World below.\n",
    "\n"
   ]
  },
  {
   "cell_type": "markdown",
   "metadata": {},
   "source": [
    "![Image of a programmer] (Programmer.jpg)"
   ]
  },
  {
   "cell_type": "markdown",
   "metadata": {},
   "source": [
    "## Congratulations! \n",
    "### You have been upgraded to a programmer.\n",
    "\n",
    "Now, let's write a program to input the birthyear from the user, and print their birthday."
   ]
  },
  {
   "cell_type": "code",
   "execution_count": 34,
   "metadata": {},
   "outputs": [],
   "source": [
    "# Input the year of birth from the user, and print their age.\n",
    "\n"
   ]
  },
  {
   "cell_type": "markdown",
   "metadata": {},
   "source": [
    "### Good! \n",
    "\n",
    "Now, let's write a program to input a temperture in degree Fahrenheit and convert it to degree Celsius, and Kelvin.<br><br>\n",
    "$$\n",
    "\\begin{equation}\n",
    "  T_{\\textrm{C}}~/~ 5 = (T_{\\textrm{F}} - 32)~/~9\n",
    "  \\end{equation}\n",
    "$$\n",
    "<br>\n",
    "$$\n",
    "\\begin{equation}\n",
    "T_{\\textrm{K}} = T_{\\textrm{C}} + 273\n",
    " \\end{equation}\n",
    "$$"
   ]
  },
  {
   "cell_type": "code",
   "execution_count": 36,
   "metadata": {},
   "outputs": [],
   "source": [
    "# Input a temperature in degree Fahrenheit and convert it into degree Celsius and print\n",
    "\n",
    "# Convert this into Kelvin and print"
   ]
  },
  {
   "cell_type": "markdown",
   "metadata": {},
   "source": [
    "## Conditional statements! \n",
    "\n",
    "Now, to spice up our programming game, let's talk about conditional statements. Like, if it's windy today I will open the windows. Otherwise, I will turn the fan on. These kind of conditional statements are very useful in python. They are used for decision making. The syntax is as follows: <br>\n",
    "~~~\n",
    "if condition_is_true\n",
    "    action_1\n",
    "~~~\n",
    "Multiple decision making can also be done with `elif condition_is_true:` and `else:`. But both of these require a preceding `if condition:` statement."
   ]
  },
  {
   "cell_type": "code",
   "execution_count": 46,
   "metadata": {},
   "outputs": [
    {
     "name": "stdout",
     "output_type": "stream",
     "text": [
      "\n"
     ]
    }
   ],
   "source": [
    "# Let's modify the previous codes\n",
    "\n",
    "'''\n",
    "Add a condition in the age code where the \n",
    "final output determines whether the person is \n",
    "legal to get married, or drink. \n",
    "'''"
   ]
  },
  {
   "cell_type": "code",
   "execution_count": null,
   "metadata": {},
   "outputs": [],
   "source": [
    "'''\n",
    "Add a condition in the temperature code where \n",
    "if the obtained temperature in Celsius is > 35, \n",
    "a heat warning is issued.\n",
    "'''"
   ]
  },
  {
   "cell_type": "markdown",
   "metadata": {},
   "source": [
    "## Bonus! Modules\n",
    "\n",
    "Modules are pre-written codes which contain certain functions. We'll learn about important modules later (as I learn). For now, there are two nice modules: `math` and `random`. So, like I said, modules are pre-written codes. Meaning, we have to bring them to our code from their directories. To do that we use the keyword `import`. Let's see how this works:"
   ]
  },
  {
   "cell_type": "code",
   "execution_count": 50,
   "metadata": {},
   "outputs": [],
   "source": [
    "# Importing modules\n",
    "import math\n"
   ]
  },
  {
   "cell_type": "markdown",
   "metadata": {},
   "source": [
    "<center> This brings us to the end of our first day. Questions? </center>"
   ]
  }
 ],
 "metadata": {
  "kernelspec": {
   "display_name": "Python 3",
   "language": "python",
   "name": "python3"
  },
  "language_info": {
   "codemirror_mode": {
    "name": "ipython",
    "version": 3
   },
   "file_extension": ".py",
   "mimetype": "text/x-python",
   "name": "python",
   "nbconvert_exporter": "python",
   "pygments_lexer": "ipython3",
   "version": "3.7.6"
  }
 },
 "nbformat": 4,
 "nbformat_minor": 4
}
