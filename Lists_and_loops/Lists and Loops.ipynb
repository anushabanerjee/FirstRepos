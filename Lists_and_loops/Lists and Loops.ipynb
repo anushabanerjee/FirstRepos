{
 "cells": [
  {
   "cell_type": "markdown",
   "metadata": {},
   "source": [
    "# Hello, and welcome back!\n",
    "\n",
    "We're now going to discuss about two very, **extremely** important things in Python- Lists and loops. Individually, both are extensive and widely used. The concepts are very important. Without further ado, let's discuss about Lists!\n",
    "\n",
    "## Lists in Python\n",
    "Lists are, very simply speaking, ordered sequences of values. They are changeable, and bear an index value, which we will see shortly. Defining a list is simple, and lists can contain various types of variables:"
   ]
  },
  {
   "cell_type": "code",
   "execution_count": 6,
   "metadata": {},
   "outputs": [],
   "source": [
    "list_example_1 = [2,3,4,5,6] # This list stores integer variables\n",
    "list_example_2 = ['Mercury', 'Venus', 'Earth', 'Mars', 'Jupiter', 'Saturn', 'Uranus', 'Neptune'] # This list stores strings\n",
    "list_example_3 = [52, 'Fifty-three', 54.0, [55, 56, 57]] # This list stores a variety of different types of variables\n",
    "\n",
    "# De-comment the line below to see what each of these lists look like when printed.\n",
    "\n",
    "# print(list_example_1, list_example_2, list_example_3, sep='\\n')"
   ]
  },
  {
   "cell_type": "markdown",
   "metadata": {},
   "source": [
    "If you check the `type()` of any of these lists, you'll see that their types is `list`. But how do we know the type of each of its individual elements? Even so, how do we access each individual element? \n",
    "\n",
    "### List Indexing \n",
    "\n",
    "It's as simple as using square brackets. Elements in a List are indexed from 0. So, the first element of the list is always `list_name[0]`. <br>\n",
    "Let's use this to find the type of each element in `list_example_3`."
   ]
  },
  {
   "cell_type": "code",
   "execution_count": null,
   "metadata": {},
   "outputs": [],
   "source": [
    "# Check the type of each element in list_example_3\n",
    "type(list_example_3[3])"
   ]
  },
  {
   "cell_type": "markdown",
   "metadata": {},
   "source": [
    "As you'll see `type(list_example_3[3])` gives a `list`, i.e it is a List inside a List. To access the List elements inside this list, we can use double square braces. So, `list_example_3[3][0]` is 55, and so on. Try it out, if you like. A list in a list can be better expressed in this way:"
   ]
  },
  {
   "cell_type": "code",
   "execution_count": 8,
   "metadata": {},
   "outputs": [],
   "source": [
    "list_example_4 = [\n",
    "    ['A', 'B', 'C'],\n",
    "    ['D', 'E', 'F'],\n",
    "    ['I', 'J', 'K'],\n",
    "] \n",
    "\n",
    "# It could also have been written as \n",
    "# list_example_4 = [['A', 'B', 'C'], ['D', 'E', 'F'], ['I', 'J', 'K']] \n",
    "# But it's easier to read it this way"
   ]
  },
  {
   "cell_type": "markdown",
   "metadata": {},
   "source": [
    "Nested Lists (List within a list) like these resemble a matrix. Or a 2-D data list. We will use the term 'nested' a lot. It's used for conditionals as well as loops. "
   ]
  },
  {
   "cell_type": "code",
   "execution_count": 82,
   "metadata": {},
   "outputs": [],
   "source": [
    "# Now, try to access each of the elements of this 'matrix'\n",
    "# list_example_4 [0][0]"
   ]
  },
  {
   "cell_type": "markdown",
   "metadata": {},
   "source": [
    "**Negative indexing** is also possible. In this case, `list_name[-1]` refers to the last element of the list. In the case, -2, -3 refer to the second-last and third-last elements respectively. \n",
    "<hr>\n",
    "<div class=\"alert alert-success\">\n",
    "\n",
    "**Task** <br>\n",
    "- Create a list called `planets` with the contents of `list_example_2`. <br>\n",
    "- Print `planets` to check.<br>\n",
    "- Print the nearest planet from the Sun using indexing.<br>\n",
    "- Print the 6th planet from the Sun.<br>\n",
    "- Print the penultimate planet from the Sun. <br>\n",
    "    </div>"
   ]
  },
  {
   "cell_type": "code",
   "execution_count": null,
   "metadata": {
    "scrolled": true
   },
   "outputs": [],
   "source": [
    "# Complete the task in this code block\n",
    "planets = list_example_2\n",
    "print (planets)"
   ]
  },
  {
   "cell_type": "markdown",
   "metadata": {},
   "source": [
    "### Slicing Lists\n",
    "Lists can be sliced by using `:`. The full slice syntax is: `list_name[start:stop:step]`. Here, `start` refers to the index of the element which is used as a start of our slice (inclusive). `stop` refers to the index of the element we should stop just before to finish our slice (exclusive). `step`allows you to take each nth-element within a start:stop range. "
   ]
  },
  {
   "cell_type": "code",
   "execution_count": null,
   "metadata": {},
   "outputs": [],
   "source": [
    "# For example: \n",
    "nums = [10, 20, 30, 40, 50, 60, 70, 80, 90]\n",
    "\n",
    "some_nums = nums[2:7] #slicing nums list\n",
    "\n",
    "print(some_nums)"
   ]
  },
  {
   "cell_type": "markdown",
   "metadata": {},
   "source": [
    "![List Slicing Example](ListSlice.png)"
   ]
  },
  {
   "cell_type": "markdown",
   "metadata": {},
   "source": [
    "The example above demonstrates how we sliced the list `nums` and printed the slice as `some_nums`."
   ]
  },
  {
   "cell_type": "code",
   "execution_count": 1,
   "metadata": {},
   "outputs": [],
   "source": [
    "# Let's try to slice some lists ourselves\n",
    "# Slice the 'planets' list accordingly and store the sliced values to the given variables\n",
    "\n",
    "terrestrial_planets = None\n",
    "gas_giants = None"
   ]
  },
  {
   "cell_type": "markdown",
   "metadata": {},
   "source": [
    "if you leave the `stop` or `start` fields empty, then it assumes it as first, or last. Meaning: `list_name[:3]` will assume slicing from the first element (0th element) to the 3rd element. Similarly `list_name[2:]` will assume slicing from the 2nd element to the last."
   ]
  },
  {
   "cell_type": "code",
   "execution_count": 17,
   "metadata": {},
   "outputs": [],
   "source": [
    "# Guess the outputs of the following\n",
    "# De-comment and run cell to check your answer for yourself\n",
    "\n",
    "#planets[1:5:2]\n",
    "#planets[0:]\n",
    "#planets[1:-1]\n",
    "#planets[-3:]\n",
    "#planets[:-2]\n",
    "#planets[::-1] # Special case"
   ]
  },
  {
   "cell_type": "markdown",
   "metadata": {},
   "source": [
    "### Re-assignment of names\n",
    "Like we mentioned previously, lists are changeable. So, the names of elements can be changed. Let's change the name of Earth to Prithibi. And Mars to Mongol."
   ]
  },
  {
   "cell_type": "code",
   "execution_count": null,
   "metadata": {},
   "outputs": [],
   "source": [
    "# Re-assigning names of Earth to 'Prithibi', and Mars to 'Mongol', and print the new list.\n",
    "\n",
    "planets[2] = 'Prithibi'"
   ]
  },
  {
   "cell_type": "markdown",
   "metadata": {},
   "source": [
    "<div class=\"alert alert-info\">\n",
    "\n",
    "**Note**\n",
    "\n",
    "Here, instead of using a single index to reassign one single element, slice indices can be used to reassign a  number of elements as well.\n",
    "</div>"
   ]
  },
  {
   "cell_type": "markdown",
   "metadata": {},
   "source": [
    "### Adding elements to the List\n",
    "There are two methods we can use for adding elements to the list:\n",
    "- `list.append(item)` adds the item to the end of the list.\n",
    "- `list.insert(index,item)` adds an item at the specified index\n",
    "<br> <br>\n",
    "Using these two methods, one can also add lists into the list. But in order to add individual elements of a list to another list, `list1.extend(list2)` method is used. <br> <br>\n",
    "Let's try it out~"
   ]
  },
  {
   "cell_type": "code",
   "execution_count": 110,
   "metadata": {},
   "outputs": [],
   "source": [
    "# JusticeForPluto \n",
    "# Append Pluto to the 'planets' list\n",
    "\n",
    "\n",
    "# Insert the Asteroid belt in the 'planets' list at it's respective index\n",
    "\n",
    "\n",
    "# Make a new list called 'planets2' and extend the contents of 'terrestrial_planets' and 'gas_giants' into it.\n"
   ]
  },
  {
   "cell_type": "markdown",
   "metadata": {},
   "source": [
    "### Deleting elements from the list\n",
    "\n",
    "There are three methods to delete elements from a list:\n",
    "- `.remove(index)`: removes element at index value. For example:\n",
    "        list_name.remove(2)\n",
    "    \n",
    "- `.pop()`: removes the last element of the list.\n",
    "        list_name.pop()\n",
    "- `del`: this statement is versatile and can be used to remove elements as well as slices.\n",
    "        del list_name[index]\n",
    "        del list_name[start:stop]"
   ]
  },
  {
   "cell_type": "code",
   "execution_count": null,
   "metadata": {},
   "outputs": [],
   "source": [
    "# Let's undo all the additions we made in the previous code block\n",
    "# Pop 'Pluto' (sorry, Pluto) from planets\n",
    "\n",
    "# Remove 'Asteroid Belt' from planets \n",
    "\n",
    "# Delete the middle 4 planets from planets2\n"
   ]
  },
  {
   "cell_type": "markdown",
   "metadata": {},
   "source": [
    "### Searching a List \n",
    "\n",
    "`.index(item)` method can be used to find the index of the element you are searching for. In case of duplicate elements, it returns the value of the first found."
   ]
  },
  {
   "cell_type": "markdown",
   "metadata": {},
   "source": [
    "## List Functions \n",
    "\n",
    "The important list functions are as follows: \n",
    "- len()\n",
    "- sorted()\n",
    "- sum()\n",
    "- max()\n",
    "- min()\n",
    "<br> <br> <center> Let's see what these functions do!"
   ]
  },
  {
   "cell_type": "code",
   "execution_count": null,
   "metadata": {},
   "outputs": [],
   "source": [
    "# Finding out the length of a list \n",
    "\n",
    "len(planets2) # How many planets are there?"
   ]
  },
  {
   "cell_type": "code",
   "execution_count": null,
   "metadata": {},
   "outputs": [],
   "source": [
    "# Sorting in ascending order \n",
    "\n",
    "sorted(planets2) # Planets in order of their alphabetical order"
   ]
  },
  {
   "cell_type": "code",
   "execution_count": 8,
   "metadata": {},
   "outputs": [],
   "source": [
    "# Sum, Min and Max \n",
    "#De-comment to run\n",
    "\n",
    "#sum(list_example_1)\n",
    "#min(list_example_1)\n",
    "#max(list_example_1)"
   ]
  },
  {
   "cell_type": "markdown",
   "metadata": {},
   "source": [
    "<div class=\"alert alert-warning\">\n",
    "\n",
    "### In short: Methods and Functions\n",
    "By now you must have noticed the use of \"method\", and \"function\" a lot of times. In very short, A **function** is a set of statements that take inputs, do some specific computation and produce an output. Functions are used as is, with paranthesis. We may include variables, and values inside the paranthesis. It depends on the function. Like `print()`. <br> <br>A function attached to an object is called a **method** . Literally every variable in python is an object. So, `list_name.append()` is a method. <br> <br>\n",
    "**Attributes** non-fuction things (without paranthesis) attached to an object. We haven't seen any yet.\n",
    "</div>"
   ]
  },
  {
   "cell_type": "markdown",
   "metadata": {},
   "source": [
    "## Introduction to Loops\n",
    "\n",
    "Loops do exactly what they're called- they loop a certain part of a code, until a given condition is satisfied. There are two main types of loops: `for` loops and `while` loops. We'll discuss both of them briefly, and discuss them in detail in our next session. Today we will discuss looping within lists only. Before that, let's see what `for` loop and `while` loop do, respectively.\n",
    "<br> <hr>\n",
    "\n",
    "### While loops\n",
    "\n",
    "<br> `While` loops are implemented as long as the condition remains true. Let's see a general syntax for these. \n",
    "\n",
    "    while condition_is_true:\n",
    "        statement(s)\n",
    "\n",
    "<br> Let's see how these loops work:"
   ]
  },
  {
   "cell_type": "code",
   "execution_count": null,
   "metadata": {},
   "outputs": [],
   "source": [
    "# While loop demonstration \n",
    "\n",
    "planets = ['Mercury', 'Venus', 'Earth', 'Mars', 'Jupiter', 'Saturn', 'Uranus', 'Neptune']\n",
    "\n",
    "ctr = 0 # Initialising counter variable \n",
    "\n",
    "while (ctr<len(planets)): # While-loop runs till the end of the list\n",
    "    print(planets[ctr], end = ' ')\n",
    "    #printing the planets on the same line\n",
    "    \n",
    "    ctr = ctr + 1 #incrementing the counter"
   ]
  },
  {
   "cell_type": "code",
   "execution_count": null,
   "metadata": {},
   "outputs": [],
   "source": [
    "# Using the same logic, try to reverse the planet list\n",
    "# Hint: Set the counter to length, and decrement the counter in the loop.\n"
   ]
  },
  {
   "cell_type": "markdown",
   "metadata": {},
   "source": [
    "### For loops\n",
    "\n",
    "For loops are more versatile, and used more extensively. `For` loops are when you loop through a fixed range (for today, we will limit it to lists). Let's see a general syntax for these. \n",
    "\n",
    "    for variable_name in List_name:\n",
    "        statement(s)"
   ]
  },
  {
   "cell_type": "code",
   "execution_count": null,
   "metadata": {},
   "outputs": [],
   "source": [
    "# Printing the list through For loops\n",
    "\n",
    "for planet in planets:\n",
    "    print(planet, end = ' ', ) #As you see, no counters were required. "
   ]
  },
  {
   "cell_type": "markdown",
   "metadata": {},
   "source": [
    "<div class=\"alert alert-success\">\n",
    "\n",
    "**Task** <br>\n",
    "- Using a `for` loop, print the planets and their proximity to the Sun. Sample output for Earth:<br><br>\n",
    "    `Earth is the 3rd planet from the Sun.` <br> <br>\n",
    "- Use conditionals to type the different suffix (-st for 1, -nd for 2, and so on)\n",
    "- **HINT! Use a counter inside the for loop.**"
   ]
  },
  {
   "cell_type": "code",
   "execution_count": 16,
   "metadata": {},
   "outputs": [
    {
     "name": "stdout",
     "output_type": "stream",
     "text": [
      "Sample output:\n",
      "\n",
      "Mercury is the 1st planet from the Sun.\n",
      "Venus is the 2nd planet from the Sun.\n",
      "Earth is the 3rd planet from the Sun.\n",
      "Mars is the 4th planet from the Sun.\n",
      "Jupiter is the 5th planet from the Sun.\n",
      "Saturn is the 6th planet from the Sun.\n",
      "Uranus is the 7th planet from the Sun.\n",
      "Neptune is the 8th planet from the Sun.\n"
     ]
    }
   ],
   "source": [
    "# Enter your code here\n",
    "planets = ['Mercury', 'Venus', 'Earth', 'Mars', 'Jupiter', 'Saturn', 'Uranus', 'Neptune']\n"
   ]
  },
  {
   "cell_type": "markdown",
   "metadata": {},
   "source": [
    "<center> More about loops the next time. Questions/doubts/feedback? Mail me at rairaianusha@gmail.com"
   ]
  }
 ],
 "metadata": {
  "kernelspec": {
   "display_name": "Python 3",
   "language": "python",
   "name": "python3"
  },
  "language_info": {
   "codemirror_mode": {
    "name": "ipython",
    "version": 3
   },
   "file_extension": ".py",
   "mimetype": "text/x-python",
   "name": "python",
   "nbconvert_exporter": "python",
   "pygments_lexer": "ipython3",
   "version": "3.7.6"
  }
 },
 "nbformat": 4,
 "nbformat_minor": 4
}
